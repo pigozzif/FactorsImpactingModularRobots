{
 "cells": [
  {
   "cell_type": "code",
   "execution_count": 228,
   "metadata": {},
   "outputs": [],
   "source": [
    "import numpy as np\n",
    "import matplotlib.pyplot as plt\n",
    "import pandas as pd\n",
    "import os\n",
    "import random\n",
    "import csv\n",
    "import math\n",
    "from sklearn.decomposition import PCA\n",
    "from sklearn.cluster import KMeans\n",
    "from sklearn.neighbors import KNeighborsClassifier\n",
    "from sklearn.preprocessing import StandardScaler, normalize\n",
    "from sklearn.ensemble import RandomForestClassifier\n",
    "from sklearn.model_selection import KFold\n",
    "from sklearn.metrics import accuracy_score\n",
    "import seaborn as sns\n",
    "from scipy.stats import wilcoxon"
   ]
  },
  {
   "cell_type": "code",
   "execution_count": 153,
   "metadata": {},
   "outputs": [],
   "source": [
    "label_to_shape = {0: \"block\", 1: \"legged\", 2: \"other\"}\n",
    "label_to_gait = {0: \"idle\", 1: \"gallop\", 2: \"crawl\", 3: \"vibrate\"}"
   ]
  },
  {
   "cell_type": "code",
   "execution_count": 15,
   "metadata": {},
   "outputs": [],
   "source": [
    "def process_static_posture(row):\n",
    "    try:\n",
    "        string = row[\"shape.static\"].split(\"/\")\n",
    "    except:\n",
    "        string = row[\"shape.static\"].item().split(\"/\")\n",
    "    out = np.zeros((len(string), len(string[0])))\n",
    "    for r in range(out.shape[0]):\n",
    "        for c in range(out.shape[1]):\n",
    "            out[r][c] = int(string[r][c])\n",
    "    return out"
   ]
  },
  {
   "cell_type": "code",
   "execution_count": 16,
   "metadata": {},
   "outputs": [],
   "source": [
    "def process_static_posture_pretty(row):\n",
    "    static = process_static_posture(row)\n",
    "    out = np.ones((5, 5, 3))\n",
    "    for r in range(static.shape[0]):\n",
    "        for c in range(static.shape[1]):\n",
    "            if static[r, c]:\n",
    "                out[r + 5 - static.shape[0], c, :] = (0, 1, 0)\n",
    "    return out"
   ]
  },
  {
   "cell_type": "code",
   "execution_count": 17,
   "metadata": {},
   "outputs": [],
   "source": [
    "def process_dynamic_posture(row):\n",
    "    out = np.zeros((16, 16))\n",
    "    try:\n",
    "        s = row[\"shape.dynamic\"].split(\"|\")\n",
    "    except:\n",
    "        s = row[\"shape.dynamic\"].item().split(\"|\")\n",
    "    for r in range(len(s)):\n",
    "        for c in range(len(s[r])):\n",
    "            if s[r][c] == \"█\" or s[r][c] == \"+\":\n",
    "                out[r, c] = 1\n",
    "    return out"
   ]
  },
  {
   "cell_type": "code",
   "execution_count": 18,
   "metadata": {},
   "outputs": [],
   "source": [
    "def parse_compressed_spectrum(row):\n",
    "    out = np.zeros(100)\n",
    "    curr = \"\"\n",
    "    num = 0\n",
    "    try:\n",
    "        sequence = row[\"compressed.frequency\"].item()\n",
    "    except:\n",
    "        sequence = row[\"compressed.frequency\"]\n",
    "    for n in sequence.split(\"-\"):\n",
    "        if \"E\" in n:\n",
    "            curr += n.replace(\"E\", \"e-\")\n",
    "        else:\n",
    "            curr += n\n",
    "            out[num] = float(curr)\n",
    "            curr = \"\"\n",
    "            num += 1\n",
    "    return out"
   ]
  },
  {
   "cell_type": "code",
   "execution_count": 13,
   "metadata": {},
   "outputs": [],
   "source": [
    "labeled_data = pd.read_csv(\"./labels.csv\", sep=\",\")\n",
    "labeled_data[\"all.label\"] = labeled_data.apply(lambda row: row[\"behaviour.label\"] + row[\"shape.label\"] * 4, axis=1)"
   ]
  },
  {
   "cell_type": "code",
   "execution_count": 20,
   "metadata": {},
   "outputs": [
    {
     "name": "stdout",
     "output_type": "stream",
     "text": [
      "mean accuracy over 5-fold:  0.6254423076923077\n",
      "best:  0.7846153846153846\n"
     ]
    }
   ],
   "source": [
    "x = np.array([process_dynamic_posture(row).flatten() for _, row in labeled_data.iterrows()])\n",
    "y = labeled_data[\"shape.label\"].values\n",
    "shape_clf = None\n",
    "best = float(\"-inf\")\n",
    "accs = []\n",
    "for seed in range(20):\n",
    "    for train, test in KFold(5).split(x):\n",
    "        clf = RandomForestClassifier(random_state=seed, n_jobs=-1)\n",
    "        clf.fit(x[train], y[train])\n",
    "        acc = accuracy_score(clf.predict(x[test]), y[test])\n",
    "        if acc > best:\n",
    "            best = acc\n",
    "            shape_clf = clf\n",
    "        accs.append(acc)\n",
    "print(\"mean accuracy over 5-fold: \", np.mean(accs))\n",
    "print(\"best: \", best)"
   ]
  },
  {
   "cell_type": "code",
   "execution_count": 21,
   "metadata": {},
   "outputs": [
    {
     "name": "stdout",
     "output_type": "stream",
     "text": [
      "mean accuracy over 5-fold:  0.7062211538461538\n",
      "best:  0.7826923076923077\n"
     ]
    }
   ],
   "source": [
    "x = np.array([parse_compressed_spectrum(row) for _, row in labeled_data.iterrows()])\n",
    "y = labeled_data[\"behaviour.label\"].values\n",
    "gait_clf = None\n",
    "best = float(\"-inf\")\n",
    "accs = []\n",
    "for seed in range(20):\n",
    "    for train, test in KFold(5).split(x):\n",
    "        clf = RandomForestClassifier(random_state=seed, n_jobs=-1)\n",
    "        clf.fit(x[train], y[train])\n",
    "        acc = accuracy_score(clf.predict(x[test]), y[test])\n",
    "        if acc > best:\n",
    "            best = acc\n",
    "            gait_clf = clf\n",
    "        accs.append(acc)\n",
    "print(\"mean accuracy over 5-fold: \", np.mean(accs))\n",
    "print(\"best: \", best)"
   ]
  },
  {
   "cell_type": "code",
   "execution_count": 128,
   "metadata": {},
   "outputs": [],
   "source": [
    "# dataframe with the best individuals of the last iteration of each run\n",
    "bests = pd.DataFrame(columns=[\"evolver\", \"controller\", \"run\", \"distance\", \"shape.dynamic\", \"compressed.frequency\",\n",
    "                              \"shape.label\", \"behaviour.label\", \"all.label\", \"serialized.genotype\"])\n",
    "\n",
    "# dataframe with all the individuals of the last iteration of each run\n",
    "lasts = pd.DataFrame(columns=[\"evolver\", \"controller\", \"run\", \"distance\", \"shape.dynamic\", \"compressed.frequency\", \"shape.label\", \"behaviour.label\", \"all.label\",\n",
    "                             \"shape.diversity\", \"behaviour.diversity\", 'all.diversity', \"serialized.genotype\"])\n",
    "\n",
    "\n",
    "# dataframe with iteration-wide measures computed every 1000 births for each run\n",
    "df = pd.DataFrame(columns=[\"iteration\", \"evolver\", \"controller\", \"run\", \"shape_median\", \"behaviour_median\", \"all_median\",\n",
    "                          \"best_distance\"])"
   ]
  },
  {
   "cell_type": "code",
   "execution_count": null,
   "metadata": {},
   "outputs": [],
   "source": [
    "import warnings\n",
    "warnings.filterwarnings('ignore')\n",
    "\n",
    "controller_to_idx = {\"homogeneous\": 0, \"heterogeneous\": 1, \"position\": 2}\n",
    "best_num = len(bests)\n",
    "last_num = len(lasts)\n",
    "df_num = len(df)\n",
    "evolver = \"ga\"\n",
    "path = \"./VSREvolution/output/\" + evolver\n",
    "for file in os.listdir(path):\n",
    "    if file == \".DS_Store\":\n",
    "        continue\n",
    "    print(file)\n",
    "    traj = pd.read_csv(os.path.join(path, file), sep=\",\")\n",
    "    traj = traj[traj.iterations != \"iterations\"]\n",
    "    traj.dropna(inplace=True)\n",
    "    traj = traj.rename({\"compressed.frequency.y\": \"compressed.frequency\"}, axis=1)\n",
    "    controller = controller_to_idx[file.split(\".\")[2]]\n",
    "    run = int(file.split(\".\")[1])\n",
    "    traj[\"distance\"] = traj[\"distance\"].astype(np.float64)\n",
    "    traj[\"iterations\"] = traj[\"iterations\"].astype(np.int32)\n",
    "    last_iter = traj[\"iterations\"].max()\n",
    "    if last_iter <= 290:\n",
    "        continue\n",
    "    births_count = 0\n",
    "    births = 0\n",
    "    old_births = 0\n",
    "    for it, t in traj.groupby([\"iterations\"]):\n",
    "        if births_count == 0 or it == last_iter:\n",
    "            max_dist = t[\"distance\"].max()\n",
    "            t[\"shape.label\"] = shape_clf.predict(np.array([process_dynamic_posture(row).flatten() for _, row in t.iterrows()]))\n",
    "            t[\"behaviour.label\"] = gait_clf.predict(np.array([parse_compressed_spectrum(row) for _, row in t.iterrows()]))\n",
    "            t[\"all.label\"] = t.apply(lambda row: row[\"behaviour.label\"] + row[\"shape.label\"] * 4, axis=1)\n",
    "            shape_counts = t[\"shape.label\"].value_counts()\n",
    "            behaviour_counts = t[\"behaviour.label\"].value_counts()\n",
    "            all_counts = t[\"all.label\"].value_counts()\n",
    "            shape_median = 1 / ((shape_counts / len(t)) ** 2).sum()\n",
    "            behaviour_median = 1 / ((behaviour_counts / len(t)) ** 2).sum()\n",
    "            all_median = 1 / ((all_counts / len(t)) ** 2).sum()\n",
    "            df.loc[df_num] = [births, evolver, controller, run, shape_median, behaviour_median, all_median, max_dist]\n",
    "            births += 1000\n",
    "            df_num += 1\n",
    "        births_count += int(t[\"births\"].median()) - old_births\n",
    "        if births_count >= 1000:\n",
    "            births_count = 0\n",
    "        old_births = int(t[\"births\"].median())\n",
    "    if last_iter > 250 and len(t) >= 50:\n",
    "        print(len(t))\n",
    "        best = t[t[\"distance\"] == max_dist]\n",
    "        if len(best) > 1:\n",
    "            best = best.sample(1)\n",
    "        bests.loc[best_num] = [evolver, controller, run, best[\"distance\"].item(), best[\"shape.dynamic\"], best[\"compressed.frequency\"], best[\"shape.label\"],\n",
    "                               best[\"behaviour.label\"], best[\"all.label\"], \"\"]\n",
    "        best_num += 1\n",
    "        for _, row in t.iterrows():\n",
    "            lasts.loc[last_num] = [evolver, controller, run, row[\"distance\"], row[\"shape.dynamic\"], row[\"compressed.frequency\"], row[\"shape.label\"],\n",
    "                                       row[\"behaviour.label\"], row[\"all.label\"], shape_median, \n",
    "                                       behaviour_median, all_median, \"\"]\n",
    "            last_num += 1"
   ]
  },
  {
   "cell_type": "code",
   "execution_count": null,
   "metadata": {},
   "outputs": [],
   "source": []
  }
 ],
 "metadata": {
  "kernelspec": {
   "display_name": "Python 3",
   "language": "python",
   "name": "python3"
  },
  "language_info": {
   "codemirror_mode": {
    "name": "ipython",
    "version": 3
   },
   "file_extension": ".py",
   "mimetype": "text/x-python",
   "name": "python",
   "nbconvert_exporter": "python",
   "pygments_lexer": "ipython3",
   "version": "3.8.5"
  }
 },
 "nbformat": 4,
 "nbformat_minor": 2
}
